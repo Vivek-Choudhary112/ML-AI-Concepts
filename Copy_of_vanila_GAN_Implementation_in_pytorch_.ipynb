{
  "nbformat": 4,
  "nbformat_minor": 0,
  "metadata": {
    "colab": {
      "name": "Copy of vanila GAN Implementation in pytorch .ipynb",
      "provenance": [],
      "include_colab_link": true
    },
    "kernelspec": {
      "name": "python3",
      "display_name": "Python 3"
    },
    "language_info": {
      "name": "python"
    }
  },
  "cells": [
    {
      "cell_type": "markdown",
      "metadata": {
        "id": "view-in-github",
        "colab_type": "text"
      },
      "source": [
        "<a href=\"https://colab.research.google.com/github/Vivek-Choudhary112/ML-AI-Concepts/blob/master/Copy_of_vanila_GAN_Implementation_in_pytorch_.ipynb\" target=\"_parent\"><img src=\"https://colab.research.google.com/assets/colab-badge.svg\" alt=\"Open In Colab\"/></a>"
      ]
    },
    {
      "cell_type": "code",
      "metadata": {
        "id": "IHd1YvHlyH9X"
      },
      "source": [
        "import torch\n",
        "from torch import nn\n",
        "\n",
        "import math\n",
        "import matplotlib.pyplot as plt"
      ],
      "execution_count": null,
      "outputs": []
    },
    {
      "cell_type": "code",
      "metadata": {
        "colab": {
          "base_uri": "https://localhost:8080/"
        },
        "id": "V_qcQGykyIwz",
        "outputId": "3a80c23e-c830-46a8-f947-545fb3ca4614"
      },
      "source": [
        "torch.manual_seed(111)"
      ],
      "execution_count": null,
      "outputs": [
        {
          "output_type": "execute_result",
          "data": {
            "text/plain": [
              "<torch._C.Generator at 0x7f836f37e850>"
            ]
          },
          "metadata": {
            "tags": []
          },
          "execution_count": 2
        }
      ]
    },
    {
      "cell_type": "code",
      "metadata": {
        "id": "oucfbF3fyOmk"
      },
      "source": [
        "train_data_length = 1024\n",
        "train_data = torch.zeros((train_data_length, 2))\n",
        "train_data[:, 0] = 2 * math.pi * torch.rand(train_data_length)\n",
        "train_data[:, 1] = torch.sin(train_data[:, 0])\n",
        "train_labels = torch.zeros(train_data_length)\n",
        "train_set = [\n",
        "    (train_data[i], train_labels[i]) for i in range(train_data_length)\n",
        "]"
      ],
      "execution_count": null,
      "outputs": []
    },
    {
      "cell_type": "code",
      "metadata": {
        "colab": {
          "base_uri": "https://localhost:8080/"
        },
        "id": "2CW5Qk6298P_",
        "outputId": "e7069f5f-17c5-455f-ae9b-0966e67c012f"
      },
      "source": [
        "train_data"
      ],
      "execution_count": null,
      "outputs": [
        {
          "output_type": "execute_result",
          "data": {
            "text/plain": [
              "tensor([[ 4.4960, -0.9767],\n",
              "        [ 5.7428, -0.5145],\n",
              "        [ 1.7710,  0.9800],\n",
              "        ...,\n",
              "        [ 4.4772, -0.9725],\n",
              "        [ 3.2305, -0.0887],\n",
              "        [ 4.0663, -0.7984]])"
            ]
          },
          "metadata": {
            "tags": []
          },
          "execution_count": 4
        }
      ]
    },
    {
      "cell_type": "code",
      "metadata": {
        "colab": {
          "base_uri": "https://localhost:8080/"
        },
        "id": "XosKRp0z98St",
        "outputId": "7363cdcf-5a8b-47ae-a929-0ba5391d528b"
      },
      "source": [
        "train_labels "
      ],
      "execution_count": null,
      "outputs": [
        {
          "output_type": "execute_result",
          "data": {
            "text/plain": [
              "tensor([0., 0., 0.,  ..., 0., 0., 0.])"
            ]
          },
          "metadata": {
            "tags": []
          },
          "execution_count": 5
        }
      ]
    },
    {
      "cell_type": "code",
      "metadata": {
        "colab": {
          "base_uri": "https://localhost:8080/"
        },
        "id": "oI1aLQwH98VS",
        "outputId": "8913b9d8-4548-428a-857c-1da378471046"
      },
      "source": [
        "train_data[:, 0]"
      ],
      "execution_count": null,
      "outputs": [
        {
          "output_type": "execute_result",
          "data": {
            "text/plain": [
              "tensor([4.4960, 5.7428, 1.7710,  ..., 4.4772, 3.2305, 4.0663])"
            ]
          },
          "metadata": {
            "tags": []
          },
          "execution_count": 6
        }
      ]
    },
    {
      "cell_type": "code",
      "metadata": {
        "colab": {
          "base_uri": "https://localhost:8080/"
        },
        "id": "RklPAhC698aj",
        "outputId": "a97c6fcf-9994-4c60-fed7-96cd81bf7fb7"
      },
      "source": [
        "train_data[:, 1]"
      ],
      "execution_count": null,
      "outputs": [
        {
          "output_type": "execute_result",
          "data": {
            "text/plain": [
              "tensor([-0.9767, -0.5145,  0.9800,  ..., -0.9725, -0.0887, -0.7984])"
            ]
          },
          "metadata": {
            "tags": []
          },
          "execution_count": 7
        }
      ]
    },
    {
      "cell_type": "code",
      "metadata": {
        "colab": {
          "base_uri": "https://localhost:8080/",
          "height": 282
        },
        "id": "HSycTtIFyROk",
        "outputId": "ee3c3df4-f13f-4d92-c800-ef4a7dc52d63"
      },
      "source": [
        "plt.plot(train_data[:, 0], train_data[:, 1], \".\")"
      ],
      "execution_count": null,
      "outputs": [
        {
          "output_type": "execute_result",
          "data": {
            "text/plain": [
              "[<matplotlib.lines.Line2D at 0x7ffb884fa4d0>]"
            ]
          },
          "metadata": {
            "tags": []
          },
          "execution_count": 4
        },
        {
          "output_type": "display_data",
          "data": {
            "image/png": "[encoded data removed]",
            "text/plain": [
              "<Figure size 432x288 with 1 Axes>"
            ]
          },
          "metadata": {
            "tags": [],
            "needs_background": "light"
          }
        }
      ]
    },
    {
      "cell_type": "code",
      "metadata": {
        "id": "RVaBClmJyTv3"
      },
      "source": [
        "batch_size = 32\n",
        "train_loader = torch.utils.data.DataLoader(\n",
        "    train_set, batch_size=batch_size, shuffle=True\n",
        ")"
      ],
      "execution_count": null,
      "outputs": []
    },
    {
      "cell_type": "code",
      "metadata": {
        "id": "0i6cNECFzSYi"
      },
      "source": [
        "class Discriminator(nn.Module):\n",
        "    def __init__(self):\n",
        "        super().__init__()\n",
        "        self.model = nn.Sequential(\n",
        "            nn.Linear(2, 256),\n",
        "            nn.ReLU(),\n",
        "            nn.Dropout(0.3),\n",
        "            nn.Linear(256, 128),\n",
        "            nn.ReLU(),\n",
        "            nn.Dropout(0.3),\n",
        "            nn.Linear(128, 64),\n",
        "            nn.ReLU(),\n",
        "            nn.Dropout(0.3),\n",
        "            nn.Linear(64, 1),\n",
        "            nn.Sigmoid(),\n",
        "        )\n",
        "\n",
        "    def forward(self, x):\n",
        "        output = self.model(x)\n",
        "        return output"
      ],
      "execution_count": null,
      "outputs": []
    },
    {
      "cell_type": "code",
      "metadata": {
        "id": "VetvHlFazvky"
      },
      "source": [
        "discriminator = Discriminator()"
      ],
      "execution_count": null,
      "outputs": []
    },
    {
      "cell_type": "code",
      "metadata": {
        "colab": {
          "base_uri": "https://localhost:8080/"
        },
        "id": "MRTNjOv4E3yU",
        "outputId": "25305f9d-3fbd-4e8d-cf94-f3dd544edb07"
      },
      "source": [
        "discriminator\n"
      ],
      "execution_count": null,
      "outputs": [
        {
          "output_type": "execute_result",
          "data": {
            "text/plain": [
              "Discriminator(\n",
              "  (model): Sequential(\n",
              "    (0): Linear(in_features=2, out_features=256, bias=True)\n",
              "    (1): ReLU()\n",
              "    (2): Dropout(p=0.3, inplace=False)\n",
              "    (3): Linear(in_features=256, out_features=128, bias=True)\n",
              "    (4): ReLU()\n",
              "    (5): Dropout(p=0.3, inplace=False)\n",
              "    (6): Linear(in_features=128, out_features=64, bias=True)\n",
              "    (7): ReLU()\n",
              "    (8): Dropout(p=0.3, inplace=False)\n",
              "    (9): Linear(in_features=64, out_features=1, bias=True)\n",
              "    (10): Sigmoid()\n",
              "  )\n",
              ")"
            ]
          },
          "metadata": {
            "tags": []
          },
          "execution_count": 31
        }
      ]
    },
    {
      "cell_type": "code",
      "metadata": {
        "id": "fAkgVaUwH9G8"
      },
      "source": [
        ""
      ],
      "execution_count": null,
      "outputs": []
    },
    {
      "cell_type": "code",
      "metadata": {
        "id": "vvU0U4yTz7hl"
      },
      "source": [
        "class Generator(nn.Module):\n",
        "    def __init__(self):\n",
        "        super().__init__()\n",
        "        self.model = nn.Sequential(\n",
        "            nn.Linear(2, 16),\n",
        "            nn.ReLU(),\n",
        "            nn.Linear(16, 32),\n",
        "            nn.ReLU(),\n",
        "            nn.Linear(32, 2),\n",
        "        )\n",
        "\n",
        "    def forward(self, x):\n",
        "        output = self.model(x)\n",
        "        return output\n",
        "\n",
        "generator = Generator()"
      ],
      "execution_count": null,
      "outputs": []
    },
    {
      "cell_type": "code",
      "metadata": {
        "colab": {
          "base_uri": "https://localhost:8080/"
        },
        "id": "rD6vroOKEpCD",
        "outputId": "0f28ee21-f644-4a3d-a917-a3a4fc24693c"
      },
      "source": [
        "generator"
      ],
      "execution_count": null,
      "outputs": [
        {
          "output_type": "execute_result",
          "data": {
            "text/plain": [
              "Generator(\n",
              "  (model): Sequential(\n",
              "    (0): Linear(in_features=2, out_features=16, bias=True)\n",
              "    (1): ReLU()\n",
              "    (2): Linear(in_features=16, out_features=32, bias=True)\n",
              "    (3): ReLU()\n",
              "    (4): Linear(in_features=32, out_features=2, bias=True)\n",
              "  )\n",
              ")"
            ]
          },
          "metadata": {
            "tags": []
          },
          "execution_count": 30
        }
      ]
    },
    {
      "cell_type": "code",
      "metadata": {
        "id": "qTw_I8fzEpD5"
      },
      "source": [
        ""
      ],
      "execution_count": null,
      "outputs": []
    },
    {
      "cell_type": "code",
      "metadata": {
        "id": "Oef3DD_J0AaC"
      },
      "source": [
        "lr = 0.001\n",
        "num_epochs = 1000\n",
        "loss_function = nn.BCELoss()"
      ],
      "execution_count": null,
      "outputs": []
    },
    {
      "cell_type": "code",
      "metadata": {
        "colab": {
          "base_uri": "https://localhost:8080/"
        },
        "id": "SYCCsf5P_KZH",
        "outputId": "6b02963a-45f5-4d2f-e036-a6f7dbdaef8d"
      },
      "source": [
        "discriminator.parameters()"
      ],
      "execution_count": null,
      "outputs": [
        {
          "output_type": "execute_result",
          "data": {
            "text/plain": [
              "<generator object Module.parameters at 0x7f836e706cd0>"
            ]
          },
          "metadata": {
            "tags": []
          },
          "execution_count": 15
        }
      ]
    },
    {
      "cell_type": "code",
      "metadata": {
        "id": "7wvxpfQW_Kcr"
      },
      "source": [
        ""
      ],
      "execution_count": null,
      "outputs": []
    },
    {
      "cell_type": "code",
      "metadata": {
        "id": "OFlk0qjr0CsZ"
      },
      "source": [
        "optimizer_discriminator = torch.optim.Adam(discriminator.parameters(), lr=lr)\n",
        "optimizer_generator = torch.optim.Adam(generator.parameters(), lr=lr)"
      ],
      "execution_count": null,
      "outputs": []
    },
    {
      "cell_type": "code",
      "metadata": {
        "id": "ZjNbdifxBTUw"
      },
      "source": [
        ""
      ],
      "execution_count": null,
      "outputs": []
    },
    {
      "cell_type": "code",
      "metadata": {
        "id": "VwqUO29hBTZG"
      },
      "source": [
        ""
      ],
      "execution_count": null,
      "outputs": []
    },
    {
      "cell_type": "code",
      "metadata": {
        "id": "JvPNVQ6JBTcr"
      },
      "source": [
        ""
      ],
      "execution_count": null,
      "outputs": []
    },
    {
      "cell_type": "code",
      "metadata": {
        "id": "MBl2VFtPBTih"
      },
      "source": [
        ""
      ],
      "execution_count": null,
      "outputs": []
    },
    {
      "cell_type": "code",
      "metadata": {
        "id": "TZGKs6Y3BTmo"
      },
      "source": [
        ""
      ],
      "execution_count": null,
      "outputs": []
    },
    {
      "cell_type": "code",
      "metadata": {
        "id": "zRVfT_ROBTqf"
      },
      "source": [
        ""
      ],
      "execution_count": null,
      "outputs": []
    },
    {
      "cell_type": "code",
      "metadata": {
        "id": "lEJB7hSSBTyi"
      },
      "source": [
        ""
      ],
      "execution_count": null,
      "outputs": []
    },
    {
      "cell_type": "code",
      "metadata": {
        "colab": {
          "base_uri": "https://localhost:8080/"
        },
        "id": "uRtjSGPJ0FRG",
        "outputId": "6da64581-82ab-4919-e696-4d66d44900a4"
      },
      "source": [
        "for epoch in range(num_epochs):\n",
        "    for n, (real_samples, _) in enumerate(train_loader):\n",
        "        # Data for training the discriminator\n",
        "        real_samples_labels = torch.ones((batch_size, 1))\n",
        "        latent_space_samples = torch.randn((batch_size, 2))\n",
        "        generated_samples = generator(latent_space_samples)\n",
        "        generated_samples_labels = torch.zeros((batch_size, 1))\n",
        "        all_samples = torch.cat((real_samples, generated_samples))\n",
        "        all_samples_labels = torch.cat(\n",
        "            (real_samples_labels, generated_samples_labels)\n",
        "        )\n",
        "\n",
        "        # Training the discriminator\n",
        "        discriminator.zero_grad()\n",
        "        output_discriminator = discriminator(all_samples)\n",
        "        loss_discriminator = loss_function(\n",
        "            output_discriminator, all_samples_labels)\n",
        "        loss_discriminator.backward()\n",
        "        optimizer_discriminator.step()\n",
        "\n",
        "        # Data for training the generator\n",
        "        latent_space_samples = torch.randn((batch_size, 2))\n",
        "\n",
        "        # Training the generator\n",
        "        generator.zero_grad()\n",
        "        generated_samples = generator(latent_space_samples)\n",
        "        output_discriminator_generated = discriminator(generated_samples)\n",
        "        loss_generator = loss_function(\n",
        "            output_discriminator_generated, real_samples_labels\n",
        "        )\n",
        "        loss_generator.backward()\n",
        "        optimizer_generator.step()\n",
        "\n",
        "        # Show loss\n",
        "        if epoch % 10 == 0 and n == batch_size - 1:\n",
        "            print(f\"Epoch: {epoch} Loss D.: {loss_discriminator}\")\n",
        "            print(f\"Epoch: {epoch} Loss G.: {loss_generator}\")"
      ],
      "execution_count": null,
      "outputs": [
        {
          "output_type": "stream",
          "text": [
            "Epoch: 0 Loss D.: 0.19172890484333038\n",
            "Epoch: 0 Loss G.: 2.205277681350708\n",
            "Epoch: 10 Loss D.: 0.6455698013305664\n",
            "Epoch: 10 Loss G.: 0.8941397666931152\n",
            "Epoch: 20 Loss D.: 0.6456489562988281\n",
            "Epoch: 20 Loss G.: 0.8919371366500854\n",
            "Epoch: 30 Loss D.: 0.6728670597076416\n",
            "Epoch: 30 Loss G.: 0.8778129816055298\n",
            "Epoch: 40 Loss D.: 0.6325268745422363\n",
            "Epoch: 40 Loss G.: 0.702785849571228\n",
            "Epoch: 50 Loss D.: 0.6204653978347778\n",
            "Epoch: 50 Loss G.: 0.9101289510726929\n",
            "Epoch: 60 Loss D.: 0.5522268414497375\n",
            "Epoch: 60 Loss G.: 0.9904371500015259\n",
            "Epoch: 70 Loss D.: 0.5903010964393616\n",
            "Epoch: 70 Loss G.: 1.0225229263305664\n",
            "Epoch: 80 Loss D.: 0.6235218048095703\n",
            "Epoch: 80 Loss G.: 0.9041709899902344\n",
            "Epoch: 90 Loss D.: 0.6744253039360046\n",
            "Epoch: 90 Loss G.: 0.8965575695037842\n",
            "Epoch: 100 Loss D.: 0.6881913542747498\n",
            "Epoch: 100 Loss G.: 1.1556098461151123\n",
            "Epoch: 110 Loss D.: 0.6485523581504822\n",
            "Epoch: 110 Loss G.: 0.7771891951560974\n",
            "Epoch: 120 Loss D.: 0.6140218377113342\n",
            "Epoch: 120 Loss G.: 0.8845400214195251\n",
            "Epoch: 130 Loss D.: 0.6125869750976562\n",
            "Epoch: 130 Loss G.: 0.8310216665267944\n",
            "Epoch: 140 Loss D.: 0.6674470901489258\n",
            "Epoch: 140 Loss G.: 0.7617863416671753\n",
            "Epoch: 150 Loss D.: 0.7807609438896179\n",
            "Epoch: 150 Loss G.: 0.739361584186554\n",
            "Epoch: 160 Loss D.: 0.6637596487998962\n",
            "Epoch: 160 Loss G.: 0.7304242849349976\n",
            "Epoch: 170 Loss D.: 0.7724139094352722\n",
            "Epoch: 170 Loss G.: 0.7749279737472534\n",
            "Epoch: 180 Loss D.: 0.6405274271965027\n",
            "Epoch: 180 Loss G.: 0.7835613489151001\n",
            "Epoch: 190 Loss D.: 0.706099271774292\n",
            "Epoch: 190 Loss G.: 0.698054313659668\n",
            "Epoch: 200 Loss D.: 0.6278105974197388\n",
            "Epoch: 200 Loss G.: 0.8709835410118103\n",
            "Epoch: 210 Loss D.: 0.6442293524742126\n",
            "Epoch: 210 Loss G.: 1.1352570056915283\n",
            "Epoch: 220 Loss D.: 0.6132981777191162\n",
            "Epoch: 220 Loss G.: 0.8672422170639038\n",
            "Epoch: 230 Loss D.: 0.7033081650733948\n",
            "Epoch: 230 Loss G.: 0.6989192366600037\n",
            "Epoch: 240 Loss D.: 0.6998447179794312\n",
            "Epoch: 240 Loss G.: 0.7135035991668701\n",
            "Epoch: 250 Loss D.: 0.7621429562568665\n",
            "Epoch: 250 Loss G.: 0.8799213767051697\n",
            "Epoch: 260 Loss D.: 0.7901245951652527\n",
            "Epoch: 260 Loss G.: 0.9585984945297241\n",
            "Epoch: 270 Loss D.: 0.6689623594284058\n",
            "Epoch: 270 Loss G.: 0.712278425693512\n",
            "Epoch: 280 Loss D.: 0.6876071691513062\n",
            "Epoch: 280 Loss G.: 0.8831450343132019\n",
            "Epoch: 290 Loss D.: 0.772131621837616\n",
            "Epoch: 290 Loss G.: 0.7073971629142761\n",
            "Epoch: 300 Loss D.: 0.6967820525169373\n",
            "Epoch: 300 Loss G.: 0.6285367608070374\n",
            "Epoch: 310 Loss D.: 0.5461256504058838\n",
            "Epoch: 310 Loss G.: 1.6219817399978638\n",
            "Epoch: 320 Loss D.: 0.6905645132064819\n",
            "Epoch: 320 Loss G.: 0.7800602316856384\n",
            "Epoch: 330 Loss D.: 0.6909162998199463\n",
            "Epoch: 330 Loss G.: 0.8028573393821716\n",
            "Epoch: 340 Loss D.: 0.5408437252044678\n",
            "Epoch: 340 Loss G.: 1.2635504007339478\n",
            "Epoch: 350 Loss D.: 0.6473212838172913\n",
            "Epoch: 350 Loss G.: 0.7880986928939819\n",
            "Epoch: 360 Loss D.: 0.6819601058959961\n",
            "Epoch: 360 Loss G.: 0.8266404271125793\n",
            "Epoch: 370 Loss D.: 0.5953177213668823\n",
            "Epoch: 370 Loss G.: 1.0207533836364746\n",
            "Epoch: 380 Loss D.: 0.6838855147361755\n",
            "Epoch: 380 Loss G.: 0.6813486814498901\n",
            "Epoch: 390 Loss D.: 0.6732694506645203\n",
            "Epoch: 390 Loss G.: 0.7875982522964478\n",
            "Epoch: 400 Loss D.: 0.6595351696014404\n",
            "Epoch: 400 Loss G.: 0.6796008348464966\n",
            "Epoch: 410 Loss D.: 0.6739451885223389\n",
            "Epoch: 410 Loss G.: 0.6842373609542847\n",
            "Epoch: 420 Loss D.: 0.5927523970603943\n",
            "Epoch: 420 Loss G.: 0.8505002856254578\n",
            "Epoch: 430 Loss D.: 0.6643547415733337\n",
            "Epoch: 430 Loss G.: 0.6983788013458252\n",
            "Epoch: 440 Loss D.: 0.6118148565292358\n",
            "Epoch: 440 Loss G.: 0.7984849810600281\n",
            "Epoch: 450 Loss D.: 0.6735481023788452\n",
            "Epoch: 450 Loss G.: 0.7766242027282715\n",
            "Epoch: 460 Loss D.: 0.6279905438423157\n",
            "Epoch: 460 Loss G.: 0.8521685600280762\n",
            "Epoch: 470 Loss D.: 0.7454996109008789\n",
            "Epoch: 470 Loss G.: 1.1594016551971436\n",
            "Epoch: 480 Loss D.: 0.6674568057060242\n",
            "Epoch: 480 Loss G.: 1.0884226560592651\n",
            "Epoch: 490 Loss D.: 0.7353636026382446\n",
            "Epoch: 490 Loss G.: 0.6348279714584351\n",
            "Epoch: 500 Loss D.: 0.6379117965698242\n",
            "Epoch: 500 Loss G.: 1.0215590000152588\n",
            "Epoch: 510 Loss D.: 0.6660699248313904\n",
            "Epoch: 510 Loss G.: 0.7307568192481995\n",
            "Epoch: 520 Loss D.: 0.7301493883132935\n",
            "Epoch: 520 Loss G.: 0.6766679286956787\n",
            "Epoch: 530 Loss D.: 0.6450313329696655\n",
            "Epoch: 530 Loss G.: 0.9690883159637451\n",
            "Epoch: 540 Loss D.: 0.669585108757019\n",
            "Epoch: 540 Loss G.: 0.7701519131660461\n",
            "Epoch: 550 Loss D.: 0.6899240612983704\n",
            "Epoch: 550 Loss G.: 0.6926384568214417\n",
            "Epoch: 560 Loss D.: 0.6623191833496094\n",
            "Epoch: 560 Loss G.: 0.8278167843818665\n",
            "Epoch: 570 Loss D.: 0.6948150992393494\n",
            "Epoch: 570 Loss G.: 0.8010865449905396\n",
            "Epoch: 580 Loss D.: 0.6269686818122864\n",
            "Epoch: 580 Loss G.: 0.9168896079063416\n",
            "Epoch: 590 Loss D.: 0.6425299644470215\n",
            "Epoch: 590 Loss G.: 0.7870957255363464\n",
            "Epoch: 600 Loss D.: 0.6537786722183228\n",
            "Epoch: 600 Loss G.: 0.7249855995178223\n",
            "Epoch: 610 Loss D.: 0.6974481344223022\n",
            "Epoch: 610 Loss G.: 0.7154824137687683\n",
            "Epoch: 620 Loss D.: 0.7543589472770691\n",
            "Epoch: 620 Loss G.: 0.5761516094207764\n",
            "Epoch: 630 Loss D.: 0.6914320588111877\n",
            "Epoch: 630 Loss G.: 0.7474979162216187\n",
            "Epoch: 640 Loss D.: 0.7171617150306702\n",
            "Epoch: 640 Loss G.: 0.6830492615699768\n",
            "Epoch: 650 Loss D.: 0.6355897188186646\n",
            "Epoch: 650 Loss G.: 0.9605187177658081\n",
            "Epoch: 660 Loss D.: 0.5960351824760437\n",
            "Epoch: 660 Loss G.: 0.8522664904594421\n",
            "Epoch: 670 Loss D.: 0.6769028306007385\n",
            "Epoch: 670 Loss G.: 0.7382426857948303\n",
            "Epoch: 680 Loss D.: 0.6945240497589111\n",
            "Epoch: 680 Loss G.: 0.9404094219207764\n",
            "Epoch: 690 Loss D.: 0.583124577999115\n",
            "Epoch: 690 Loss G.: 0.9744154810905457\n",
            "Epoch: 700 Loss D.: 0.6597105264663696\n",
            "Epoch: 700 Loss G.: 0.7016324400901794\n",
            "Epoch: 710 Loss D.: 0.6937597990036011\n",
            "Epoch: 710 Loss G.: 0.729985773563385\n",
            "Epoch: 720 Loss D.: 0.6806978583335876\n",
            "Epoch: 720 Loss G.: 0.7284850478172302\n",
            "Epoch: 730 Loss D.: 0.7311327457427979\n",
            "Epoch: 730 Loss G.: 0.7475997805595398\n",
            "Epoch: 740 Loss D.: 0.5896907448768616\n",
            "Epoch: 740 Loss G.: 0.8055676817893982\n",
            "Epoch: 750 Loss D.: 0.6434406042098999\n",
            "Epoch: 750 Loss G.: 0.735838770866394\n",
            "Epoch: 760 Loss D.: 0.6444398760795593\n",
            "Epoch: 760 Loss G.: 1.029393196105957\n",
            "Epoch: 770 Loss D.: 0.6486197710037231\n",
            "Epoch: 770 Loss G.: 0.721772313117981\n",
            "Epoch: 780 Loss D.: 0.67069411277771\n",
            "Epoch: 780 Loss G.: 0.759536862373352\n",
            "Epoch: 790 Loss D.: 0.676337718963623\n",
            "Epoch: 790 Loss G.: 0.6809332370758057\n",
            "Epoch: 800 Loss D.: 0.6773600578308105\n",
            "Epoch: 800 Loss G.: 0.7464750409126282\n",
            "Epoch: 810 Loss D.: 0.6797537803649902\n",
            "Epoch: 810 Loss G.: 0.7700485587120056\n",
            "Epoch: 820 Loss D.: 0.6924578547477722\n",
            "Epoch: 820 Loss G.: 0.6879477500915527\n",
            "Epoch: 830 Loss D.: 0.6810818314552307\n",
            "Epoch: 830 Loss G.: 0.7269529700279236\n",
            "Epoch: 840 Loss D.: 0.6713594794273376\n",
            "Epoch: 840 Loss G.: 0.9637861847877502\n",
            "Epoch: 850 Loss D.: 0.6577478647232056\n",
            "Epoch: 850 Loss G.: 0.8439631462097168\n",
            "Epoch: 860 Loss D.: 0.7052882313728333\n",
            "Epoch: 860 Loss G.: 0.7871260046958923\n",
            "Epoch: 870 Loss D.: 0.6669177412986755\n",
            "Epoch: 870 Loss G.: 0.7447952032089233\n",
            "Epoch: 880 Loss D.: 0.534801185131073\n",
            "Epoch: 880 Loss G.: 1.2914974689483643\n",
            "Epoch: 890 Loss D.: 0.5588249564170837\n",
            "Epoch: 890 Loss G.: 1.483015537261963\n",
            "Epoch: 900 Loss D.: 0.49811843037605286\n",
            "Epoch: 900 Loss G.: 1.509412407875061\n",
            "Epoch: 910 Loss D.: 0.6353655457496643\n",
            "Epoch: 910 Loss G.: 0.7516981363296509\n",
            "Epoch: 920 Loss D.: 0.6621088981628418\n",
            "Epoch: 920 Loss G.: 0.7608219981193542\n",
            "Epoch: 930 Loss D.: 0.6925355195999146\n",
            "Epoch: 930 Loss G.: 0.721737265586853\n",
            "Epoch: 940 Loss D.: 0.6482897400856018\n",
            "Epoch: 940 Loss G.: 0.7542846202850342\n",
            "Epoch: 950 Loss D.: 0.6920731067657471\n",
            "Epoch: 950 Loss G.: 0.7258636951446533\n",
            "Epoch: 960 Loss D.: 0.6810476779937744\n",
            "Epoch: 960 Loss G.: 0.8378710746765137\n",
            "Epoch: 970 Loss D.: 0.6853975057601929\n",
            "Epoch: 970 Loss G.: 0.7274107933044434\n",
            "Epoch: 980 Loss D.: 0.6807730197906494\n",
            "Epoch: 980 Loss G.: 0.7413665056228638\n",
            "Epoch: 990 Loss D.: 0.5687861442565918\n",
            "Epoch: 990 Loss G.: 1.0435580015182495\n"
          ],
          "name": "stdout"
        }
      ]
    },
    {
      "cell_type": "code",
      "metadata": {
        "id": "ItF2KbIE0Q4R"
      },
      "source": [
        "latent_space_samples = torch.randn(500, 2)\n",
        "generated_samples = generator(latent_space_samples)"
      ],
      "execution_count": null,
      "outputs": []
    },
    {
      "cell_type": "code",
      "metadata": {
        "id": "_xwtFBcTDlde"
      },
      "source": [
        ""
      ],
      "execution_count": null,
      "outputs": []
    },
    {
      "cell_type": "code",
      "metadata": {
        "id": "_4edC5ifDlhs"
      },
      "source": [
        ""
      ],
      "execution_count": null,
      "outputs": []
    },
    {
      "cell_type": "code",
      "metadata": {
        "colab": {
          "base_uri": "https://localhost:8080/"
        },
        "id": "YFqVAWCbCjUC",
        "outputId": "f0d4a286-c359-4dde-e490-473c311cc00e"
      },
      "source": [
        "generated_samples"
      ],
      "execution_count": null,
      "outputs": [
        {
          "output_type": "execute_result",
          "data": {
            "text/plain": [
              "tensor([[ 7.1344e-01,  6.6065e-01],\n",
              "        [ 1.4339e+00,  9.8866e-01],\n",
              "        [ 4.4294e+00, -9.6140e-01],\n",
              "        [ 1.4862e+00,  9.8997e-01],\n",
              "        [ 4.7468e-01,  4.5584e-01],\n",
              "        [ 6.0546e+00, -1.3016e-01],\n",
              "        [ 1.5780e+00,  9.9227e-01],\n",
              "        [ 5.3286e+00, -7.7369e-01],\n",
              "        [ 6.0337e+00, -1.5791e-01],\n",
              "        [ 1.7244e+00,  9.8176e-01],\n",
              "        [ 2.8538e+00,  2.6175e-01],\n",
              "        [ 2.5431e+00,  5.6265e-01],\n",
              "        [ 5.9923e+00, -1.8197e-01],\n",
              "        [ 4.6822e+00, -9.8589e-01],\n",
              "        [ 1.2635e+00,  9.6301e-01],\n",
              "        [ 2.1164e+00,  8.3511e-01],\n",
              "        [ 5.9874e+00, -7.9239e-02],\n",
              "        [ 2.3246e+00,  7.1801e-01],\n",
              "        [ 5.4719e+00, -6.8765e-01],\n",
              "        [ 2.7415e+00,  3.7042e-01],\n",
              "        [ 2.3760e+00,  6.8161e-01],\n",
              "        [ 4.2067e+00, -8.8406e-01],\n",
              "        [ 4.8144e+00, -9.9011e-01],\n",
              "        [ 2.7909e+00,  3.2072e-01],\n",
              "        [ 6.0229e+00, -1.7503e-01],\n",
              "        [ 4.3712e+00, -9.4077e-01],\n",
              "        [ 9.5665e-01,  8.2903e-01],\n",
              "        [ 1.4883e+00,  9.8993e-01],\n",
              "        [ 5.1871e+00, -8.3957e-01],\n",
              "        [ 5.9466e+00, -2.4217e-01],\n",
              "        [ 4.9850e+00, -9.3016e-01],\n",
              "        [ 2.8588e+00,  2.5733e-01],\n",
              "        [ 4.7729e+00, -9.9000e-01],\n",
              "        [ 5.4254e+00, -7.3253e-01],\n",
              "        [ 4.2678e+00, -9.0430e-01],\n",
              "        [ 5.6237e+00, -5.4061e-01],\n",
              "        [ 1.9994e+00,  8.9804e-01],\n",
              "        [ 1.1056e+00,  9.0138e-01],\n",
              "        [ 5.6265e+00, -5.3414e-01],\n",
              "        [ 5.7673e+00, -4.0079e-01],\n",
              "        [ 4.1770e+00, -8.6908e-01],\n",
              "        [ 6.0071e+00, -8.7377e-02],\n",
              "        [ 4.2067e+00, -8.8244e-01],\n",
              "        [ 4.5453e+00, -9.7825e-01],\n",
              "        [ 2.3967e+00,  6.6711e-01],\n",
              "        [ 5.4528e+00, -7.0485e-01],\n",
              "        [ 1.5204e+00,  9.9066e-01],\n",
              "        [ 4.4072e+00, -9.5393e-01],\n",
              "        [ 2.0794e+00,  8.5662e-01],\n",
              "        [ 6.1668e-01,  5.8707e-01],\n",
              "        [ 5.2870e+00, -7.9444e-01],\n",
              "        [ 4.8281e+00, -9.8639e-01],\n",
              "        [ 4.4126e+00, -9.5593e-01],\n",
              "        [ 3.0602e-01,  3.0344e-01],\n",
              "        [ 1.0197e+00,  8.6618e-01],\n",
              "        [ 5.5158e+00, -6.4019e-01],\n",
              "        [ 5.5067e+00, -6.6295e-01],\n",
              "        [ 1.8376e+00,  9.7494e-01],\n",
              "        [ 2.9387e+00,  1.7957e-01],\n",
              "        [ 9.7225e-01,  8.3742e-01],\n",
              "        [ 4.9686e+00, -9.3836e-01],\n",
              "        [ 4.4573e+00, -9.6924e-01],\n",
              "        [ 1.7111e+00,  9.8316e-01],\n",
              "        [ 2.7515e+00,  3.6087e-01],\n",
              "        [ 4.2044e+00, -8.8033e-01],\n",
              "        [ 1.9249e+00,  9.3563e-01],\n",
              "        [ 2.4161e+00,  6.5309e-01],\n",
              "        [ 5.8460e+00, -3.3034e-01],\n",
              "        [ 2.2825e+00,  7.4575e-01],\n",
              "        [ 9.4853e-01,  8.2219e-01],\n",
              "        [ 4.2423e+00, -8.9455e-01],\n",
              "        [ 7.6917e-01,  7.0340e-01],\n",
              "        [ 5.7137e+00, -4.3381e-01],\n",
              "        [ 4.0331e+00, -7.8467e-01],\n",
              "        [ 1.3582e+00,  9.8697e-01],\n",
              "        [ 1.7587e+00,  9.7998e-01],\n",
              "        [ 2.6684e+00,  4.4214e-01],\n",
              "        [ 9.8786e-01,  8.4709e-01],\n",
              "        [ 1.3205e+00,  9.8534e-01],\n",
              "        [ 1.0340e+00,  8.7361e-01],\n",
              "        [ 4.5038e+00, -9.7329e-01],\n",
              "        [ 5.3420e+00, -7.7042e-01],\n",
              "        [ 5.8063e+00, -3.6712e-01],\n",
              "        [ 5.2174e+00, -8.2485e-01],\n",
              "        [ 5.9125e+00, -2.5493e-01],\n",
              "        [ 5.3626e+00, -7.6067e-01],\n",
              "        [ 1.6134e-01,  1.5056e-01],\n",
              "        [ 2.9961e+00,  1.2174e-01],\n",
              "        [ 5.7836e+00, -3.8299e-01],\n",
              "        [ 5.9772e+00, -6.9759e-02],\n",
              "        [ 1.9389e+00,  9.2887e-01],\n",
              "        [ 1.9889e+00,  9.0405e-01],\n",
              "        [ 5.4364e+00, -7.1283e-01],\n",
              "        [ 5.0218e+00, -9.1421e-01],\n",
              "        [ 1.2561e+00,  9.6033e-01],\n",
              "        [ 1.2369e+00,  9.5248e-01],\n",
              "        [ 3.1947e+00, -7.1529e-02],\n",
              "        [ 1.0414e+00,  8.7620e-01],\n",
              "        [ 4.5637e+00, -9.8033e-01],\n",
              "        [ 3.6456e+00, -5.1187e-01],\n",
              "        [ 2.4621e-01,  2.3748e-01],\n",
              "        [ 5.1886e+00, -8.3989e-01],\n",
              "        [ 1.7699e+00,  9.7918e-01],\n",
              "        [ 3.1278e+00, -6.4098e-03],\n",
              "        [ 4.5763e+00, -9.7907e-01],\n",
              "        [ 4.5213e+00, -9.7534e-01],\n",
              "        [ 2.3827e+00,  6.7696e-01],\n",
              "        [ 1.2175e+00,  9.4524e-01],\n",
              "        [ 2.3119e+00,  7.2691e-01],\n",
              "        [ 1.4918e+00,  9.9017e-01],\n",
              "        [ 7.0541e-01,  6.5445e-01],\n",
              "        [ 3.7776e-01,  3.8165e-01],\n",
              "        [ 3.3275e+00, -1.9468e-01],\n",
              "        [ 2.2108e+00,  7.8412e-01],\n",
              "        [ 3.9057e+00, -7.1001e-01],\n",
              "        [ 1.1379e+00,  9.1395e-01],\n",
              "        [ 3.1248e+00, -3.1554e-03],\n",
              "        [ 5.6324e-01,  5.4066e-01],\n",
              "        [ 1.0670e+00,  8.8607e-01],\n",
              "        [ 9.7882e-01,  8.4110e-01],\n",
              "        [ 5.1711e+00, -8.4539e-01],\n",
              "        [ 1.1422e+00,  9.1545e-01],\n",
              "        [ 8.5669e-01,  7.6373e-01],\n",
              "        [ 1.8108e+00,  9.7588e-01],\n",
              "        [ 4.2497e+00, -8.9679e-01],\n",
              "        [ 4.1882e+00, -8.7517e-01],\n",
              "        [ 5.5459e+00, -6.3551e-01],\n",
              "        [ 1.4973e+00,  9.9025e-01],\n",
              "        [ 4.4334e+00, -9.6404e-01],\n",
              "        [ 2.9144e+00,  2.0320e-01],\n",
              "        [ 3.0192e+00,  9.6224e-02],\n",
              "        [ 5.1217e+00, -8.6757e-01],\n",
              "        [ 5.4654e+00, -6.9027e-01],\n",
              "        [ 4.8526e+00, -9.8925e-01],\n",
              "        [ 4.2348e+00, -8.9110e-01],\n",
              "        [ 1.4127e+00,  9.8829e-01],\n",
              "        [ 3.0469e+00,  7.3286e-02],\n",
              "        [ 2.6824e+00,  4.2917e-01],\n",
              "        [ 3.7181e+00, -5.6988e-01],\n",
              "        [ 4.5953e+00, -9.8476e-01],\n",
              "        [ 4.6926e+00, -9.8513e-01],\n",
              "        [ 1.6319e+00,  9.8836e-01],\n",
              "        [ 3.3048e+00, -1.8234e-01],\n",
              "        [ 5.8783e+00, -3.1409e-02],\n",
              "        [ 6.0736e+00, -1.2039e-01],\n",
              "        [ 1.9294e+00,  9.3123e-01],\n",
              "        [ 1.0271e+00,  8.7077e-01],\n",
              "        [ 2.8331e-01,  2.8409e-01],\n",
              "        [ 1.5372e+00,  9.9104e-01],\n",
              "        [ 3.4260e+00, -2.9866e-01],\n",
              "        [ 6.0155e+00, -8.8893e-02],\n",
              "        [ 1.7929e+00,  9.7730e-01],\n",
              "        [ 6.7964e-01,  6.3509e-01],\n",
              "        [ 3.4818e+00, -3.4506e-01],\n",
              "        [ 6.0044e+00, -8.8709e-02],\n",
              "        [ 5.8522e+00, -3.1770e-01],\n",
              "        [ 4.2676e+00, -9.0344e-01],\n",
              "        [ 6.4791e-01,  6.1080e-01],\n",
              "        [ 2.4632e+00,  6.1961e-01],\n",
              "        [ 2.4666e+00,  6.1768e-01],\n",
              "        [ 5.3487e+00, -7.6648e-01],\n",
              "        [ 3.0777e+00,  4.7180e-02],\n",
              "        [ 4.1589e+00, -8.5853e-01],\n",
              "        [ 4.9622e+00, -9.3840e-01],\n",
              "        [ 4.2349e+00, -8.9245e-01],\n",
              "        [ 2.0432e+00,  8.7603e-01],\n",
              "        [ 1.5788e+00,  9.9136e-01],\n",
              "        [ 5.8211e+00, -3.3956e-01],\n",
              "        [ 1.1139e+00,  9.0435e-01],\n",
              "        [ 6.0568e+00, -1.1577e-01],\n",
              "        [ 2.5500e+00,  5.5348e-01],\n",
              "        [ 3.7326e+00, -5.8061e-01],\n",
              "        [ 6.7502e-01,  6.2798e-01],\n",
              "        [ 5.8377e+00, -3.1392e-01],\n",
              "        [ 2.0216e+00,  8.8817e-01],\n",
              "        [ 4.1604e-01,  4.1188e-01],\n",
              "        [ 1.0189e+00,  8.6549e-01],\n",
              "        [ 9.2357e-01,  8.0556e-01],\n",
              "        [ 5.1393e+00, -8.6092e-01],\n",
              "        [ 3.5642e+00, -4.2771e-01],\n",
              "        [ 4.0954e+00, -8.2147e-01],\n",
              "        [ 3.6638e+00, -5.2566e-01],\n",
              "        [ 5.6559e+00, -5.2878e-01],\n",
              "        [ 5.9055e+00, -2.5723e-01],\n",
              "        [ 1.3967e+00,  9.8792e-01],\n",
              "        [ 5.0467e+00, -9.0243e-01],\n",
              "        [ 5.2880e+00, -7.9439e-01],\n",
              "        [ 2.1718e+00,  8.0566e-01],\n",
              "        [ 5.9203e+00, -2.6409e-01],\n",
              "        [ 5.4046e+00, -7.4168e-01],\n",
              "        [ 4.2942e+00, -9.1175e-01],\n",
              "        [ 1.8622e+00,  9.6535e-01],\n",
              "        [ 5.6734e+00, -4.9213e-01],\n",
              "        [ 7.2154e-01,  6.6681e-01],\n",
              "        [ 1.2245e+00,  9.4759e-01],\n",
              "        [ 1.2662e+00,  9.6428e-01],\n",
              "        [ 5.9436e+00, -5.8955e-02],\n",
              "        [ 3.7914e+00, -6.2804e-01],\n",
              "        [ 4.3181e+00, -9.2253e-01],\n",
              "        [ 1.2523e+00,  9.5867e-01],\n",
              "        [ 2.2602e+00,  7.5660e-01],\n",
              "        [ 1.5227e+00,  9.9061e-01],\n",
              "        [ 4.8979e+00, -9.7049e-01],\n",
              "        [ 5.7393e+00, -4.0917e-01],\n",
              "        [ 5.1255e+00, -8.6518e-01],\n",
              "        [ 3.8485e+00, -6.7298e-01],\n",
              "        [ 9.9238e-01,  8.4971e-01],\n",
              "        [ 8.4741e-01,  7.5717e-01],\n",
              "        [ 4.4885e+00, -9.7199e-01],\n",
              "        [ 4.3342e+00, -9.2724e-01],\n",
              "        [ 6.0087e+00, -8.8243e-02],\n",
              "        [ 6.0553e+00, -1.1892e-01],\n",
              "        [ 2.2954e+00,  7.3865e-01],\n",
              "        [ 1.5753e+00,  9.9171e-01],\n",
              "        [ 5.1876e+00, -8.4110e-01],\n",
              "        [ 3.9578e-01,  3.8946e-01],\n",
              "        [ 5.4262e+00, -7.3157e-01],\n",
              "        [ 5.7311e+00, -4.3052e-01],\n",
              "        [ 4.6530e+00, -9.8723e-01],\n",
              "        [ 5.0683e+00, -8.9297e-01],\n",
              "        [ 2.4414e+00,  6.3522e-01],\n",
              "        [ 4.9094e+00, -9.6461e-01],\n",
              "        [ 1.6226e+00,  9.8888e-01],\n",
              "        [ 4.4276e+00, -9.6141e-01],\n",
              "        [ 4.2833e+00, -9.0944e-01],\n",
              "        [ 4.9291e+00, -9.5576e-01],\n",
              "        [ 5.2651e+00, -8.0438e-01],\n",
              "        [ 1.2667e+00,  9.6473e-01],\n",
              "        [ 5.9884e+00, -1.8680e-01],\n",
              "        [ 1.9509e+00,  9.2295e-01],\n",
              "        [ 3.1095e+00,  1.5620e-02],\n",
              "        [ 6.0867e+00, -1.1944e-01],\n",
              "        [ 2.4844e+00,  6.0492e-01],\n",
              "        [ 3.5431e+00, -4.1005e-01],\n",
              "        [ 2.6754e+00,  4.3607e-01],\n",
              "        [ 7.3966e-01,  6.8030e-01],\n",
              "        [ 2.4577e+00,  6.2402e-01],\n",
              "        [ 3.8784e+00, -6.9370e-01],\n",
              "        [ 1.3527e+00,  9.8688e-01],\n",
              "        [ 5.3213e-01,  5.1752e-01],\n",
              "        [ 3.1633e+00, -3.9023e-02],\n",
              "        [ 6.0648e+00, -1.3085e-01],\n",
              "        [ 2.7442e+00,  3.7152e-01],\n",
              "        [ 4.4835e-01,  4.4023e-01],\n",
              "        [ 5.8251e+00, -3.1780e-01],\n",
              "        [ 1.1791e+00,  9.2987e-01],\n",
              "        [ 2.4410e+00,  6.3569e-01],\n",
              "        [ 3.5059e+00, -3.6563e-01],\n",
              "        [ 5.0461e+00, -9.0264e-01],\n",
              "        [ 2.2324e+00,  7.7298e-01],\n",
              "        [ 4.3885e+00, -9.4847e-01],\n",
              "        [ 2.0833e+00,  8.5421e-01],\n",
              "        [ 9.4031e-01,  8.1613e-01],\n",
              "        [ 3.7677e+00, -6.0865e-01],\n",
              "        [ 5.8021e+00, -3.6460e-01],\n",
              "        [ 3.8958e+00, -7.0382e-01],\n",
              "        [ 1.7085e+00,  9.8293e-01],\n",
              "        [ 5.4135e+00, -7.2430e-01],\n",
              "        [ 5.8784e+00, -3.0234e-02],\n",
              "        [ 5.2844e+00, -7.9525e-01],\n",
              "        [ 4.5570e+00, -9.7951e-01],\n",
              "        [ 4.7922e+00, -9.8073e-01],\n",
              "        [ 7.8885e-01,  7.1698e-01],\n",
              "        [ 6.0454e+00, -1.0816e-01],\n",
              "        [ 1.7065e+00,  9.8342e-01],\n",
              "        [ 4.8784e+00, -9.7845e-01],\n",
              "        [ 5.5685e+00, -5.9124e-01],\n",
              "        [ 3.8606e+00, -6.8334e-01],\n",
              "        [ 1.0408e+00,  8.7579e-01],\n",
              "        [ 5.2995e+00, -7.8920e-01],\n",
              "        [ 5.0974e+00, -8.8002e-01],\n",
              "        [ 4.3320e+00, -9.2825e-01],\n",
              "        [ 6.0467e+00, -1.0242e-01],\n",
              "        [ 4.4222e+00, -9.5742e-01],\n",
              "        [ 2.9834e+00,  1.3295e-01],\n",
              "        [ 2.6534e+00,  4.5899e-01],\n",
              "        [ 1.9053e+00,  9.4568e-01],\n",
              "        [ 5.8698e+00, -2.9069e-01],\n",
              "        [ 2.1144e+00,  8.3762e-01],\n",
              "        [ 2.3545e+00,  6.9684e-01],\n",
              "        [ 4.3579e+00, -9.3552e-01],\n",
              "        [ 1.2770e+00,  9.6867e-01],\n",
              "        [ 1.0632e+00,  8.8447e-01],\n",
              "        [ 1.2271e+00,  9.4896e-01],\n",
              "        [ 1.4706e+00,  9.8960e-01],\n",
              "        [ 4.9428e+00, -9.4867e-01],\n",
              "        [ 4.9803e+00, -9.3321e-01],\n",
              "        [ 5.9949e+00, -9.1090e-02],\n",
              "        [ 3.4831e+00, -3.5372e-01],\n",
              "        [ 5.4300e+00, -7.2896e-01],\n",
              "        [ 4.5559e+00, -9.8051e-01],\n",
              "        [ 1.2979e+00,  9.7650e-01],\n",
              "        [ 2.5470e+00,  5.5488e-01],\n",
              "        [ 4.7722e+00, -9.8853e-01],\n",
              "        [ 5.8421e+00, -3.2404e-01],\n",
              "        [ 4.3553e+00, -9.3778e-01],\n",
              "        [ 2.1450e+00,  8.1942e-01],\n",
              "        [ 5.5309e+00, -6.2053e-01],\n",
              "        [ 2.6809e+00,  4.2601e-01],\n",
              "        [ 5.0131e+00, -9.1941e-01],\n",
              "        [ 3.4002e-01,  3.3048e-01],\n",
              "        [ 2.3666e+00,  6.8837e-01],\n",
              "        [ 5.3065e+00, -7.8635e-01],\n",
              "        [ 1.1568e+00,  9.2116e-01],\n",
              "        [ 2.3511e+00,  6.9932e-01],\n",
              "        [ 4.8441e+00, -9.8684e-01],\n",
              "        [ 5.2417e+00, -8.1558e-01],\n",
              "        [ 4.9810e+00, -9.3230e-01],\n",
              "        [ 1.8070e+00,  9.7591e-01],\n",
              "        [ 1.0527e+00,  8.8048e-01],\n",
              "        [ 6.0788e+00, -1.1627e-01],\n",
              "        [ 5.5158e+00, -6.4772e-01],\n",
              "        [ 1.0026e+00,  8.5606e-01],\n",
              "        [ 3.8703e+00, -6.8919e-01],\n",
              "        [ 3.1256e+00, -3.1799e-04],\n",
              "        [ 5.5134e+00, -6.4863e-01],\n",
              "        [ 2.2307e+00,  7.7407e-01],\n",
              "        [ 4.2909e+00, -9.1283e-01],\n",
              "        [ 4.7397e+00, -9.8494e-01],\n",
              "        [ 5.6247e+00, -5.3537e-01],\n",
              "        [ 1.8063e+00,  9.7649e-01],\n",
              "        [ 2.4271e+00,  6.4535e-01],\n",
              "        [ 3.8840e+00, -6.9711e-01],\n",
              "        [ 6.1669e-01,  5.8702e-01],\n",
              "        [ 1.0409e+00,  8.7604e-01],\n",
              "        [ 5.5024e+00, -6.6082e-01],\n",
              "        [ 2.3869e+00,  6.7400e-01],\n",
              "        [ 2.5011e+00,  5.9326e-01],\n",
              "        [ 5.3171e+00, -7.7893e-01],\n",
              "        [ 4.9192e+00, -9.5931e-01],\n",
              "        [ 2.0045e+00,  8.9653e-01],\n",
              "        [ 5.2892e+00, -7.9379e-01],\n",
              "        [ 5.4349e+00, -7.2831e-01],\n",
              "        [ 4.3994e+00, -9.5203e-01],\n",
              "        [ 2.0639e+00,  8.6346e-01],\n",
              "        [ 4.7906e+00, -9.9426e-01],\n",
              "        [ 4.4238e+00, -9.6004e-01],\n",
              "        [ 4.8208e+00, -9.8002e-01],\n",
              "        [ 5.8076e+00, -3.7530e-01],\n",
              "        [ 6.0413e+00, -1.0114e-01],\n",
              "        [ 5.1798e+00, -8.4138e-01],\n",
              "        [ 1.4121e+00,  9.8820e-01],\n",
              "        [ 2.0449e+00,  8.7510e-01],\n",
              "        [ 6.0715e+00, -1.1262e-01],\n",
              "        [ 7.2526e-01,  6.6951e-01],\n",
              "        [ 1.0876e+00,  8.9388e-01],\n",
              "        [ 1.1240e+00,  9.0850e-01],\n",
              "        [ 1.2003e+00,  9.3828e-01],\n",
              "        [ 1.9292e+00,  9.3198e-01],\n",
              "        [ 4.2189e+00, -8.8487e-01],\n",
              "        [ 3.1054e+00,  1.4312e-02],\n",
              "        [ 4.7066e+00, -9.7632e-01],\n",
              "        [ 1.2832e+00,  9.7125e-01],\n",
              "        [ 1.1293e+00,  9.1048e-01],\n",
              "        [ 5.0644e+00, -8.9499e-01],\n",
              "        [ 5.5166e+00, -6.2330e-01],\n",
              "        [ 6.0560e+00, -1.0671e-01],\n",
              "        [ 4.4063e+00, -9.5178e-01],\n",
              "        [ 1.8502e+00,  9.7220e-01],\n",
              "        [ 4.4946e+00, -9.7216e-01],\n",
              "        [ 3.4736e+00, -3.4172e-01],\n",
              "        [ 2.5815e+00,  5.2329e-01],\n",
              "        [ 4.0520e+00, -7.9583e-01],\n",
              "        [ 5.1338e+00, -8.6306e-01],\n",
              "        [ 5.2788e+00, -7.9880e-01],\n",
              "        [ 2.1238e+00,  8.3207e-01],\n",
              "        [ 2.5513e+00,  5.5352e-01],\n",
              "        [ 2.3173e+00,  7.2326e-01],\n",
              "        [ 5.3744e+00, -7.5603e-01],\n",
              "        [ 4.4214e+00, -9.5776e-01],\n",
              "        [ 1.7114e+00,  9.8329e-01],\n",
              "        [ 6.6557e-01,  6.2436e-01],\n",
              "        [ 4.8464e+00, -9.8097e-01],\n",
              "        [ 4.4260e+00, -9.6014e-01],\n",
              "        [ 3.3782e+00, -2.4989e-01],\n",
              "        [ 6.1696e-01,  5.8738e-01],\n",
              "        [ 3.1271e+00, -5.6460e-03],\n",
              "        [ 2.2169e+00,  7.8085e-01],\n",
              "        [ 5.7586e-01,  5.5291e-01],\n",
              "        [ 3.1726e+00, -4.4565e-02],\n",
              "        [ 5.9795e+00, -1.8042e-01],\n",
              "        [ 4.4329e+00, -9.6191e-01],\n",
              "        [ 3.8008e+00, -6.3585e-01],\n",
              "        [ 1.1002e+00,  8.9912e-01],\n",
              "        [ 3.4715e+00, -3.4370e-01],\n",
              "        [ 5.9283e+00, -5.5337e-02],\n",
              "        [ 1.3028e+00,  9.7868e-01],\n",
              "        [ 5.8669e+00, -3.1781e-01],\n",
              "        [ 3.7733e+00, -6.1330e-01],\n",
              "        [ 3.1803e+00, -4.9629e-02],\n",
              "        [ 4.0085e+00, -7.7031e-01],\n",
              "        [ 2.7088e+00,  4.0231e-01],\n",
              "        [ 1.2465e+00,  9.5659e-01],\n",
              "        [ 1.0115e+00,  8.6096e-01],\n",
              "        [ 3.5965e+00, -4.6091e-01],\n",
              "        [ 5.4304e+00, -7.2105e-01],\n",
              "        [ 2.4911e+00,  6.0014e-01],\n",
              "        [ 5.7734e+00, -3.9235e-01],\n",
              "        [ 5.5283e+00, -6.0930e-01],\n",
              "        [ 3.2521e+00, -1.3236e-01],\n",
              "        [ 5.8690e-01,  5.5898e-01],\n",
              "        [ 4.2774e+00, -9.0924e-01],\n",
              "        [ 5.6032e+00, -5.5472e-01],\n",
              "        [ 5.5002e+00, -6.6574e-01],\n",
              "        [ 1.2629e+00,  9.6293e-01],\n",
              "        [ 3.8322e+00, -6.5970e-01],\n",
              "        [ 6.0534e+00, -1.1333e-01],\n",
              "        [ 2.6446e+00,  4.6259e-01],\n",
              "        [ 4.1884e+00, -8.7543e-01],\n",
              "        [ 5.4541e+00, -7.1830e-01],\n",
              "        [ 2.3454e+00,  7.0325e-01],\n",
              "        [ 2.7744e+00,  3.3869e-01],\n",
              "        [ 3.4666e+00, -3.3095e-01],\n",
              "        [ 2.3112e+00,  7.2747e-01],\n",
              "        [ 4.3161e+00, -9.2054e-01],\n",
              "        [ 6.8511e-01,  6.3959e-01],\n",
              "        [ 3.7251e+00, -5.7437e-01],\n",
              "        [ 2.5894e+00,  5.1785e-01],\n",
              "        [ 5.3931e+00, -7.4585e-01],\n",
              "        [ 3.8091e+00, -6.4230e-01],\n",
              "        [ 4.2017e+00, -8.8101e-01],\n",
              "        [ 4.0912e+00, -8.1895e-01],\n",
              "        [ 1.9839e+00,  9.0615e-01],\n",
              "        [ 3.8168e+00, -6.4849e-01],\n",
              "        [ 5.1586e+00, -8.5327e-01],\n",
              "        [ 1.5264e+00,  9.9081e-01],\n",
              "        [ 3.9999e+00, -7.6527e-01],\n",
              "        [ 4.6971e-01,  4.5623e-01],\n",
              "        [ 4.0240e+00, -7.7903e-01],\n",
              "        [ 8.2808e-01,  7.4522e-01],\n",
              "        [ 3.5141e-01,  3.4543e-01],\n",
              "        [ 5.4534e+00, -7.0579e-01],\n",
              "        [ 3.4257e+00, -2.9756e-01],\n",
              "        [ 4.6094e+00, -9.8552e-01],\n",
              "        [ 6.0225e+00, -9.0575e-02],\n",
              "        [ 2.9606e+00,  1.6010e-01],\n",
              "        [ 5.7266e+00, -4.5376e-01],\n",
              "        [ 1.9577e+00,  9.1882e-01],\n",
              "        [ 4.4404e+00, -9.6538e-01],\n",
              "        [ 5.3555e+00, -7.6352e-01],\n",
              "        [ 6.0708e+00, -1.1862e-01],\n",
              "        [ 4.7273e+00, -9.8142e-01],\n",
              "        [ 9.1347e-01,  7.9984e-01],\n",
              "        [ 4.0551e+00, -7.9750e-01],\n",
              "        [ 7.3150e-01,  6.7426e-01],\n",
              "        [ 2.2595e+00,  7.5678e-01],\n",
              "        [ 5.4566e+00, -7.0389e-01],\n",
              "        [ 6.0697e+00, -1.1917e-01],\n",
              "        [ 4.3049e+00, -9.1610e-01],\n",
              "        [ 5.5576e+00, -6.1821e-01],\n",
              "        [ 4.8974e+00, -9.7065e-01],\n",
              "        [ 8.0757e-01,  7.2808e-01],\n",
              "        [ 4.7925e+00, -9.8117e-01],\n",
              "        [ 4.2099e+00, -8.8220e-01],\n",
              "        [ 3.0291e+00,  8.9916e-02],\n",
              "        [ 4.3500e+00, -9.3301e-01],\n",
              "        [ 6.0254e+00, -1.0151e-01],\n",
              "        [ 9.3254e-01,  8.1278e-01],\n",
              "        [ 5.5448e+00, -6.0837e-01],\n",
              "        [ 6.0431e+00, -1.0932e-01],\n",
              "        [ 1.3686e+00,  9.8739e-01],\n",
              "        [ 2.6405e+00,  4.6846e-01],\n",
              "        [ 1.3209e+00,  9.8551e-01],\n",
              "        [ 2.9282e+00,  1.8812e-01],\n",
              "        [ 2.5266e-01,  2.5856e-01],\n",
              "        [ 4.2120e+00, -8.8479e-01],\n",
              "        [ 4.4073e+00, -9.5283e-01],\n",
              "        [ 3.2129e+00, -8.7367e-02],\n",
              "        [ 1.9877e+00,  9.0378e-01],\n",
              "        [ 4.7332e+00, -9.8056e-01],\n",
              "        [ 4.7032e+00, -9.8870e-01],\n",
              "        [ 4.1544e+00, -8.5594e-01],\n",
              "        [ 4.4802e+00, -9.7030e-01],\n",
              "        [ 3.7080e+00, -5.5932e-01],\n",
              "        [ 1.9379e-01,  1.8206e-01],\n",
              "        [ 9.0634e-01,  7.9636e-01],\n",
              "        [ 1.3830e+00,  9.8771e-01],\n",
              "        [ 4.7730e+00, -9.8500e-01],\n",
              "        [ 5.3418e+00, -7.7090e-01],\n",
              "        [ 5.8262e+00, -3.6337e-01],\n",
              "        [ 5.6179e+00, -5.3736e-01],\n",
              "        [ 4.3623e+00, -9.3909e-01],\n",
              "        [ 9.9334e-01,  8.4768e-01],\n",
              "        [ 1.2319e+00,  9.5088e-01],\n",
              "        [ 2.4398e+00,  6.3647e-01],\n",
              "        [ 5.6923e+00, -4.8100e-01],\n",
              "        [ 5.7866e+00, -3.7354e-01],\n",
              "        [ 5.4458e+00, -7.0764e-01],\n",
              "        [ 1.8552e+00,  9.6912e-01],\n",
              "        [ 2.2438e+00,  7.6485e-01],\n",
              "        [ 1.2022e+00,  9.3933e-01],\n",
              "        [ 3.7513e+00, -5.9595e-01],\n",
              "        [ 5.2821e+00, -7.9463e-01],\n",
              "        [ 5.3765e+00, -7.5452e-01],\n",
              "        [ 3.4470e+00, -3.1334e-01],\n",
              "        [ 2.4151e+00,  6.5409e-01],\n",
              "        [ 5.4559e+00, -6.9944e-01],\n",
              "        [ 4.9670e+00, -9.3699e-01],\n",
              "        [ 1.1601e+00,  9.2272e-01],\n",
              "        [ 4.7715e+00, -9.8734e-01]], grad_fn=<AddmmBackward>)"
            ]
          },
          "metadata": {
            "tags": []
          },
          "execution_count": 27
        }
      ]
    },
    {
      "cell_type": "code",
      "metadata": {
        "colab": {
          "base_uri": "https://localhost:8080/"
        },
        "id": "SwA7zZAvCmsM",
        "outputId": "14e36ce0-895d-4ebd-918a-397f3f964c10"
      },
      "source": [
        "generated_samples.detach()"
      ],
      "execution_count": null,
      "outputs": [
        {
          "output_type": "execute_result",
          "data": {
            "text/plain": [
              "tensor([[ 7.1344e-01,  6.6065e-01],\n",
              "        [ 1.4339e+00,  9.8866e-01],\n",
              "        [ 4.4294e+00, -9.6140e-01],\n",
              "        [ 1.4862e+00,  9.8997e-01],\n",
              "        [ 4.7468e-01,  4.5584e-01],\n",
              "        [ 6.0546e+00, -1.3016e-01],\n",
              "        [ 1.5780e+00,  9.9227e-01],\n",
              "        [ 5.3286e+00, -7.7369e-01],\n",
              "        [ 6.0337e+00, -1.5791e-01],\n",
              "        [ 1.7244e+00,  9.8176e-01],\n",
              "        [ 2.8538e+00,  2.6175e-01],\n",
              "        [ 2.5431e+00,  5.6265e-01],\n",
              "        [ 5.9923e+00, -1.8197e-01],\n",
              "        [ 4.6822e+00, -9.8589e-01],\n",
              "        [ 1.2635e+00,  9.6301e-01],\n",
              "        [ 2.1164e+00,  8.3511e-01],\n",
              "        [ 5.9874e+00, -7.9239e-02],\n",
              "        [ 2.3246e+00,  7.1801e-01],\n",
              "        [ 5.4719e+00, -6.8765e-01],\n",
              "        [ 2.7415e+00,  3.7042e-01],\n",
              "        [ 2.3760e+00,  6.8161e-01],\n",
              "        [ 4.2067e+00, -8.8406e-01],\n",
              "        [ 4.8144e+00, -9.9011e-01],\n",
              "        [ 2.7909e+00,  3.2072e-01],\n",
              "        [ 6.0229e+00, -1.7503e-01],\n",
              "        [ 4.3712e+00, -9.4077e-01],\n",
              "        [ 9.5665e-01,  8.2903e-01],\n",
              "        [ 1.4883e+00,  9.8993e-01],\n",
              "        [ 5.1871e+00, -8.3957e-01],\n",
              "        [ 5.9466e+00, -2.4217e-01],\n",
              "        [ 4.9850e+00, -9.3016e-01],\n",
              "        [ 2.8588e+00,  2.5733e-01],\n",
              "        [ 4.7729e+00, -9.9000e-01],\n",
              "        [ 5.4254e+00, -7.3253e-01],\n",
              "        [ 4.2678e+00, -9.0430e-01],\n",
              "        [ 5.6237e+00, -5.4061e-01],\n",
              "        [ 1.9994e+00,  8.9804e-01],\n",
              "        [ 1.1056e+00,  9.0138e-01],\n",
              "        [ 5.6265e+00, -5.3414e-01],\n",
              "        [ 5.7673e+00, -4.0079e-01],\n",
              "        [ 4.1770e+00, -8.6908e-01],\n",
              "        [ 6.0071e+00, -8.7377e-02],\n",
              "        [ 4.2067e+00, -8.8244e-01],\n",
              "        [ 4.5453e+00, -9.7825e-01],\n",
              "        [ 2.3967e+00,  6.6711e-01],\n",
              "        [ 5.4528e+00, -7.0485e-01],\n",
              "        [ 1.5204e+00,  9.9066e-01],\n",
              "        [ 4.4072e+00, -9.5393e-01],\n",
              "        [ 2.0794e+00,  8.5662e-01],\n",
              "        [ 6.1668e-01,  5.8707e-01],\n",
              "        [ 5.2870e+00, -7.9444e-01],\n",
              "        [ 4.8281e+00, -9.8639e-01],\n",
              "        [ 4.4126e+00, -9.5593e-01],\n",
              "        [ 3.0602e-01,  3.0344e-01],\n",
              "        [ 1.0197e+00,  8.6618e-01],\n",
              "        [ 5.5158e+00, -6.4019e-01],\n",
              "        [ 5.5067e+00, -6.6295e-01],\n",
              "        [ 1.8376e+00,  9.7494e-01],\n",
              "        [ 2.9387e+00,  1.7957e-01],\n",
              "        [ 9.7225e-01,  8.3742e-01],\n",
              "        [ 4.9686e+00, -9.3836e-01],\n",
              "        [ 4.4573e+00, -9.6924e-01],\n",
              "        [ 1.7111e+00,  9.8316e-01],\n",
              "        [ 2.7515e+00,  3.6087e-01],\n",
              "        [ 4.2044e+00, -8.8033e-01],\n",
              "        [ 1.9249e+00,  9.3563e-01],\n",
              "        [ 2.4161e+00,  6.5309e-01],\n",
              "        [ 5.8460e+00, -3.3034e-01],\n",
              "        [ 2.2825e+00,  7.4575e-01],\n",
              "        [ 9.4853e-01,  8.2219e-01],\n",
              "        [ 4.2423e+00, -8.9455e-01],\n",
              "        [ 7.6917e-01,  7.0340e-01],\n",
              "        [ 5.7137e+00, -4.3381e-01],\n",
              "        [ 4.0331e+00, -7.8467e-01],\n",
              "        [ 1.3582e+00,  9.8697e-01],\n",
              "        [ 1.7587e+00,  9.7998e-01],\n",
              "        [ 2.6684e+00,  4.4214e-01],\n",
              "        [ 9.8786e-01,  8.4709e-01],\n",
              "        [ 1.3205e+00,  9.8534e-01],\n",
              "        [ 1.0340e+00,  8.7361e-01],\n",
              "        [ 4.5038e+00, -9.7329e-01],\n",
              "        [ 5.3420e+00, -7.7042e-01],\n",
              "        [ 5.8063e+00, -3.6712e-01],\n",
              "        [ 5.2174e+00, -8.2485e-01],\n",
              "        [ 5.9125e+00, -2.5493e-01],\n",
              "        [ 5.3626e+00, -7.6067e-01],\n",
              "        [ 1.6134e-01,  1.5056e-01],\n",
              "        [ 2.9961e+00,  1.2174e-01],\n",
              "        [ 5.7836e+00, -3.8299e-01],\n",
              "        [ 5.9772e+00, -6.9759e-02],\n",
              "        [ 1.9389e+00,  9.2887e-01],\n",
              "        [ 1.9889e+00,  9.0405e-01],\n",
              "        [ 5.4364e+00, -7.1283e-01],\n",
              "        [ 5.0218e+00, -9.1421e-01],\n",
              "        [ 1.2561e+00,  9.6033e-01],\n",
              "        [ 1.2369e+00,  9.5248e-01],\n",
              "        [ 3.1947e+00, -7.1529e-02],\n",
              "        [ 1.0414e+00,  8.7620e-01],\n",
              "        [ 4.5637e+00, -9.8033e-01],\n",
              "        [ 3.6456e+00, -5.1187e-01],\n",
              "        [ 2.4621e-01,  2.3748e-01],\n",
              "        [ 5.1886e+00, -8.3989e-01],\n",
              "        [ 1.7699e+00,  9.7918e-01],\n",
              "        [ 3.1278e+00, -6.4098e-03],\n",
              "        [ 4.5763e+00, -9.7907e-01],\n",
              "        [ 4.5213e+00, -9.7534e-01],\n",
              "        [ 2.3827e+00,  6.7696e-01],\n",
              "        [ 1.2175e+00,  9.4524e-01],\n",
              "        [ 2.3119e+00,  7.2691e-01],\n",
              "        [ 1.4918e+00,  9.9017e-01],\n",
              "        [ 7.0541e-01,  6.5445e-01],\n",
              "        [ 3.7776e-01,  3.8165e-01],\n",
              "        [ 3.3275e+00, -1.9468e-01],\n",
              "        [ 2.2108e+00,  7.8412e-01],\n",
              "        [ 3.9057e+00, -7.1001e-01],\n",
              "        [ 1.1379e+00,  9.1395e-01],\n",
              "        [ 3.1248e+00, -3.1554e-03],\n",
              "        [ 5.6324e-01,  5.4066e-01],\n",
              "        [ 1.0670e+00,  8.8607e-01],\n",
              "        [ 9.7882e-01,  8.4110e-01],\n",
              "        [ 5.1711e+00, -8.4539e-01],\n",
              "        [ 1.1422e+00,  9.1545e-01],\n",
              "        [ 8.5669e-01,  7.6373e-01],\n",
              "        [ 1.8108e+00,  9.7588e-01],\n",
              "        [ 4.2497e+00, -8.9679e-01],\n",
              "        [ 4.1882e+00, -8.7517e-01],\n",
              "        [ 5.5459e+00, -6.3551e-01],\n",
              "        [ 1.4973e+00,  9.9025e-01],\n",
              "        [ 4.4334e+00, -9.6404e-01],\n",
              "        [ 2.9144e+00,  2.0320e-01],\n",
              "        [ 3.0192e+00,  9.6224e-02],\n",
              "        [ 5.1217e+00, -8.6757e-01],\n",
              "        [ 5.4654e+00, -6.9027e-01],\n",
              "        [ 4.8526e+00, -9.8925e-01],\n",
              "        [ 4.2348e+00, -8.9110e-01],\n",
              "        [ 1.4127e+00,  9.8829e-01],\n",
              "        [ 3.0469e+00,  7.3286e-02],\n",
              "        [ 2.6824e+00,  4.2917e-01],\n",
              "        [ 3.7181e+00, -5.6988e-01],\n",
              "        [ 4.5953e+00, -9.8476e-01],\n",
              "        [ 4.6926e+00, -9.8513e-01],\n",
              "        [ 1.6319e+00,  9.8836e-01],\n",
              "        [ 3.3048e+00, -1.8234e-01],\n",
              "        [ 5.8783e+00, -3.1409e-02],\n",
              "        [ 6.0736e+00, -1.2039e-01],\n",
              "        [ 1.9294e+00,  9.3123e-01],\n",
              "        [ 1.0271e+00,  8.7077e-01],\n",
              "        [ 2.8331e-01,  2.8409e-01],\n",
              "        [ 1.5372e+00,  9.9104e-01],\n",
              "        [ 3.4260e+00, -2.9866e-01],\n",
              "        [ 6.0155e+00, -8.8893e-02],\n",
              "        [ 1.7929e+00,  9.7730e-01],\n",
              "        [ 6.7964e-01,  6.3509e-01],\n",
              "        [ 3.4818e+00, -3.4506e-01],\n",
              "        [ 6.0044e+00, -8.8709e-02],\n",
              "        [ 5.8522e+00, -3.1770e-01],\n",
              "        [ 4.2676e+00, -9.0344e-01],\n",
              "        [ 6.4791e-01,  6.1080e-01],\n",
              "        [ 2.4632e+00,  6.1961e-01],\n",
              "        [ 2.4666e+00,  6.1768e-01],\n",
              "        [ 5.3487e+00, -7.6648e-01],\n",
              "        [ 3.0777e+00,  4.7180e-02],\n",
              "        [ 4.1589e+00, -8.5853e-01],\n",
              "        [ 4.9622e+00, -9.3840e-01],\n",
              "        [ 4.2349e+00, -8.9245e-01],\n",
              "        [ 2.0432e+00,  8.7603e-01],\n",
              "        [ 1.5788e+00,  9.9136e-01],\n",
              "        [ 5.8211e+00, -3.3956e-01],\n",
              "        [ 1.1139e+00,  9.0435e-01],\n",
              "        [ 6.0568e+00, -1.1577e-01],\n",
              "        [ 2.5500e+00,  5.5348e-01],\n",
              "        [ 3.7326e+00, -5.8061e-01],\n",
              "        [ 6.7502e-01,  6.2798e-01],\n",
              "        [ 5.8377e+00, -3.1392e-01],\n",
              "        [ 2.0216e+00,  8.8817e-01],\n",
              "        [ 4.1604e-01,  4.1188e-01],\n",
              "        [ 1.0189e+00,  8.6549e-01],\n",
              "        [ 9.2357e-01,  8.0556e-01],\n",
              "        [ 5.1393e+00, -8.6092e-01],\n",
              "        [ 3.5642e+00, -4.2771e-01],\n",
              "        [ 4.0954e+00, -8.2147e-01],\n",
              "        [ 3.6638e+00, -5.2566e-01],\n",
              "        [ 5.6559e+00, -5.2878e-01],\n",
              "        [ 5.9055e+00, -2.5723e-01],\n",
              "        [ 1.3967e+00,  9.8792e-01],\n",
              "        [ 5.0467e+00, -9.0243e-01],\n",
              "        [ 5.2880e+00, -7.9439e-01],\n",
              "        [ 2.1718e+00,  8.0566e-01],\n",
              "        [ 5.9203e+00, -2.6409e-01],\n",
              "        [ 5.4046e+00, -7.4168e-01],\n",
              "        [ 4.2942e+00, -9.1175e-01],\n",
              "        [ 1.8622e+00,  9.6535e-01],\n",
              "        [ 5.6734e+00, -4.9213e-01],\n",
              "        [ 7.2154e-01,  6.6681e-01],\n",
              "        [ 1.2245e+00,  9.4759e-01],\n",
              "        [ 1.2662e+00,  9.6428e-01],\n",
              "        [ 5.9436e+00, -5.8955e-02],\n",
              "        [ 3.7914e+00, -6.2804e-01],\n",
              "        [ 4.3181e+00, -9.2253e-01],\n",
              "        [ 1.2523e+00,  9.5867e-01],\n",
              "        [ 2.2602e+00,  7.5660e-01],\n",
              "        [ 1.5227e+00,  9.9061e-01],\n",
              "        [ 4.8979e+00, -9.7049e-01],\n",
              "        [ 5.7393e+00, -4.0917e-01],\n",
              "        [ 5.1255e+00, -8.6518e-01],\n",
              "        [ 3.8485e+00, -6.7298e-01],\n",
              "        [ 9.9238e-01,  8.4971e-01],\n",
              "        [ 8.4741e-01,  7.5717e-01],\n",
              "        [ 4.4885e+00, -9.7199e-01],\n",
              "        [ 4.3342e+00, -9.2724e-01],\n",
              "        [ 6.0087e+00, -8.8243e-02],\n",
              "        [ 6.0553e+00, -1.1892e-01],\n",
              "        [ 2.2954e+00,  7.3865e-01],\n",
              "        [ 1.5753e+00,  9.9171e-01],\n",
              "        [ 5.1876e+00, -8.4110e-01],\n",
              "        [ 3.9578e-01,  3.8946e-01],\n",
              "        [ 5.4262e+00, -7.3157e-01],\n",
              "        [ 5.7311e+00, -4.3052e-01],\n",
              "        [ 4.6530e+00, -9.8723e-01],\n",
              "        [ 5.0683e+00, -8.9297e-01],\n",
              "        [ 2.4414e+00,  6.3522e-01],\n",
              "        [ 4.9094e+00, -9.6461e-01],\n",
              "        [ 1.6226e+00,  9.8888e-01],\n",
              "        [ 4.4276e+00, -9.6141e-01],\n",
              "        [ 4.2833e+00, -9.0944e-01],\n",
              "        [ 4.9291e+00, -9.5576e-01],\n",
              "        [ 5.2651e+00, -8.0438e-01],\n",
              "        [ 1.2667e+00,  9.6473e-01],\n",
              "        [ 5.9884e+00, -1.8680e-01],\n",
              "        [ 1.9509e+00,  9.2295e-01],\n",
              "        [ 3.1095e+00,  1.5620e-02],\n",
              "        [ 6.0867e+00, -1.1944e-01],\n",
              "        [ 2.4844e+00,  6.0492e-01],\n",
              "        [ 3.5431e+00, -4.1005e-01],\n",
              "        [ 2.6754e+00,  4.3607e-01],\n",
              "        [ 7.3966e-01,  6.8030e-01],\n",
              "        [ 2.4577e+00,  6.2402e-01],\n",
              "        [ 3.8784e+00, -6.9370e-01],\n",
              "        [ 1.3527e+00,  9.8688e-01],\n",
              "        [ 5.3213e-01,  5.1752e-01],\n",
              "        [ 3.1633e+00, -3.9023e-02],\n",
              "        [ 6.0648e+00, -1.3085e-01],\n",
              "        [ 2.7442e+00,  3.7152e-01],\n",
              "        [ 4.4835e-01,  4.4023e-01],\n",
              "        [ 5.8251e+00, -3.1780e-01],\n",
              "        [ 1.1791e+00,  9.2987e-01],\n",
              "        [ 2.4410e+00,  6.3569e-01],\n",
              "        [ 3.5059e+00, -3.6563e-01],\n",
              "        [ 5.0461e+00, -9.0264e-01],\n",
              "        [ 2.2324e+00,  7.7298e-01],\n",
              "        [ 4.3885e+00, -9.4847e-01],\n",
              "        [ 2.0833e+00,  8.5421e-01],\n",
              "        [ 9.4031e-01,  8.1613e-01],\n",
              "        [ 3.7677e+00, -6.0865e-01],\n",
              "        [ 5.8021e+00, -3.6460e-01],\n",
              "        [ 3.8958e+00, -7.0382e-01],\n",
              "        [ 1.7085e+00,  9.8293e-01],\n",
              "        [ 5.4135e+00, -7.2430e-01],\n",
              "        [ 5.8784e+00, -3.0234e-02],\n",
              "        [ 5.2844e+00, -7.9525e-01],\n",
              "        [ 4.5570e+00, -9.7951e-01],\n",
              "        [ 4.7922e+00, -9.8073e-01],\n",
              "        [ 7.8885e-01,  7.1698e-01],\n",
              "        [ 6.0454e+00, -1.0816e-01],\n",
              "        [ 1.7065e+00,  9.8342e-01],\n",
              "        [ 4.8784e+00, -9.7845e-01],\n",
              "        [ 5.5685e+00, -5.9124e-01],\n",
              "        [ 3.8606e+00, -6.8334e-01],\n",
              "        [ 1.0408e+00,  8.7579e-01],\n",
              "        [ 5.2995e+00, -7.8920e-01],\n",
              "        [ 5.0974e+00, -8.8002e-01],\n",
              "        [ 4.3320e+00, -9.2825e-01],\n",
              "        [ 6.0467e+00, -1.0242e-01],\n",
              "        [ 4.4222e+00, -9.5742e-01],\n",
              "        [ 2.9834e+00,  1.3295e-01],\n",
              "        [ 2.6534e+00,  4.5899e-01],\n",
              "        [ 1.9053e+00,  9.4568e-01],\n",
              "        [ 5.8698e+00, -2.9069e-01],\n",
              "        [ 2.1144e+00,  8.3762e-01],\n",
              "        [ 2.3545e+00,  6.9684e-01],\n",
              "        [ 4.3579e+00, -9.3552e-01],\n",
              "        [ 1.2770e+00,  9.6867e-01],\n",
              "        [ 1.0632e+00,  8.8447e-01],\n",
              "        [ 1.2271e+00,  9.4896e-01],\n",
              "        [ 1.4706e+00,  9.8960e-01],\n",
              "        [ 4.9428e+00, -9.4867e-01],\n",
              "        [ 4.9803e+00, -9.3321e-01],\n",
              "        [ 5.9949e+00, -9.1090e-02],\n",
              "        [ 3.4831e+00, -3.5372e-01],\n",
              "        [ 5.4300e+00, -7.2896e-01],\n",
              "        [ 4.5559e+00, -9.8051e-01],\n",
              "        [ 1.2979e+00,  9.7650e-01],\n",
              "        [ 2.5470e+00,  5.5488e-01],\n",
              "        [ 4.7722e+00, -9.8853e-01],\n",
              "        [ 5.8421e+00, -3.2404e-01],\n",
              "        [ 4.3553e+00, -9.3778e-01],\n",
              "        [ 2.1450e+00,  8.1942e-01],\n",
              "        [ 5.5309e+00, -6.2053e-01],\n",
              "        [ 2.6809e+00,  4.2601e-01],\n",
              "        [ 5.0131e+00, -9.1941e-01],\n",
              "        [ 3.4002e-01,  3.3048e-01],\n",
              "        [ 2.3666e+00,  6.8837e-01],\n",
              "        [ 5.3065e+00, -7.8635e-01],\n",
              "        [ 1.1568e+00,  9.2116e-01],\n",
              "        [ 2.3511e+00,  6.9932e-01],\n",
              "        [ 4.8441e+00, -9.8684e-01],\n",
              "        [ 5.2417e+00, -8.1558e-01],\n",
              "        [ 4.9810e+00, -9.3230e-01],\n",
              "        [ 1.8070e+00,  9.7591e-01],\n",
              "        [ 1.0527e+00,  8.8048e-01],\n",
              "        [ 6.0788e+00, -1.1627e-01],\n",
              "        [ 5.5158e+00, -6.4772e-01],\n",
              "        [ 1.0026e+00,  8.5606e-01],\n",
              "        [ 3.8703e+00, -6.8919e-01],\n",
              "        [ 3.1256e+00, -3.1799e-04],\n",
              "        [ 5.5134e+00, -6.4863e-01],\n",
              "        [ 2.2307e+00,  7.7407e-01],\n",
              "        [ 4.2909e+00, -9.1283e-01],\n",
              "        [ 4.7397e+00, -9.8494e-01],\n",
              "        [ 5.6247e+00, -5.3537e-01],\n",
              "        [ 1.8063e+00,  9.7649e-01],\n",
              "        [ 2.4271e+00,  6.4535e-01],\n",
              "        [ 3.8840e+00, -6.9711e-01],\n",
              "        [ 6.1669e-01,  5.8702e-01],\n",
              "        [ 1.0409e+00,  8.7604e-01],\n",
              "        [ 5.5024e+00, -6.6082e-01],\n",
              "        [ 2.3869e+00,  6.7400e-01],\n",
              "        [ 2.5011e+00,  5.9326e-01],\n",
              "        [ 5.3171e+00, -7.7893e-01],\n",
              "        [ 4.9192e+00, -9.5931e-01],\n",
              "        [ 2.0045e+00,  8.9653e-01],\n",
              "        [ 5.2892e+00, -7.9379e-01],\n",
              "        [ 5.4349e+00, -7.2831e-01],\n",
              "        [ 4.3994e+00, -9.5203e-01],\n",
              "        [ 2.0639e+00,  8.6346e-01],\n",
              "        [ 4.7906e+00, -9.9426e-01],\n",
              "        [ 4.4238e+00, -9.6004e-01],\n",
              "        [ 4.8208e+00, -9.8002e-01],\n",
              "        [ 5.8076e+00, -3.7530e-01],\n",
              "        [ 6.0413e+00, -1.0114e-01],\n",
              "        [ 5.1798e+00, -8.4138e-01],\n",
              "        [ 1.4121e+00,  9.8820e-01],\n",
              "        [ 2.0449e+00,  8.7510e-01],\n",
              "        [ 6.0715e+00, -1.1262e-01],\n",
              "        [ 7.2526e-01,  6.6951e-01],\n",
              "        [ 1.0876e+00,  8.9388e-01],\n",
              "        [ 1.1240e+00,  9.0850e-01],\n",
              "        [ 1.2003e+00,  9.3828e-01],\n",
              "        [ 1.9292e+00,  9.3198e-01],\n",
              "        [ 4.2189e+00, -8.8487e-01],\n",
              "        [ 3.1054e+00,  1.4312e-02],\n",
              "        [ 4.7066e+00, -9.7632e-01],\n",
              "        [ 1.2832e+00,  9.7125e-01],\n",
              "        [ 1.1293e+00,  9.1048e-01],\n",
              "        [ 5.0644e+00, -8.9499e-01],\n",
              "        [ 5.5166e+00, -6.2330e-01],\n",
              "        [ 6.0560e+00, -1.0671e-01],\n",
              "        [ 4.4063e+00, -9.5178e-01],\n",
              "        [ 1.8502e+00,  9.7220e-01],\n",
              "        [ 4.4946e+00, -9.7216e-01],\n",
              "        [ 3.4736e+00, -3.4172e-01],\n",
              "        [ 2.5815e+00,  5.2329e-01],\n",
              "        [ 4.0520e+00, -7.9583e-01],\n",
              "        [ 5.1338e+00, -8.6306e-01],\n",
              "        [ 5.2788e+00, -7.9880e-01],\n",
              "        [ 2.1238e+00,  8.3207e-01],\n",
              "        [ 2.5513e+00,  5.5352e-01],\n",
              "        [ 2.3173e+00,  7.2326e-01],\n",
              "        [ 5.3744e+00, -7.5603e-01],\n",
              "        [ 4.4214e+00, -9.5776e-01],\n",
              "        [ 1.7114e+00,  9.8329e-01],\n",
              "        [ 6.6557e-01,  6.2436e-01],\n",
              "        [ 4.8464e+00, -9.8097e-01],\n",
              "        [ 4.4260e+00, -9.6014e-01],\n",
              "        [ 3.3782e+00, -2.4989e-01],\n",
              "        [ 6.1696e-01,  5.8738e-01],\n",
              "        [ 3.1271e+00, -5.6460e-03],\n",
              "        [ 2.2169e+00,  7.8085e-01],\n",
              "        [ 5.7586e-01,  5.5291e-01],\n",
              "        [ 3.1726e+00, -4.4565e-02],\n",
              "        [ 5.9795e+00, -1.8042e-01],\n",
              "        [ 4.4329e+00, -9.6191e-01],\n",
              "        [ 3.8008e+00, -6.3585e-01],\n",
              "        [ 1.1002e+00,  8.9912e-01],\n",
              "        [ 3.4715e+00, -3.4370e-01],\n",
              "        [ 5.9283e+00, -5.5337e-02],\n",
              "        [ 1.3028e+00,  9.7868e-01],\n",
              "        [ 5.8669e+00, -3.1781e-01],\n",
              "        [ 3.7733e+00, -6.1330e-01],\n",
              "        [ 3.1803e+00, -4.9629e-02],\n",
              "        [ 4.0085e+00, -7.7031e-01],\n",
              "        [ 2.7088e+00,  4.0231e-01],\n",
              "        [ 1.2465e+00,  9.5659e-01],\n",
              "        [ 1.0115e+00,  8.6096e-01],\n",
              "        [ 3.5965e+00, -4.6091e-01],\n",
              "        [ 5.4304e+00, -7.2105e-01],\n",
              "        [ 2.4911e+00,  6.0014e-01],\n",
              "        [ 5.7734e+00, -3.9235e-01],\n",
              "        [ 5.5283e+00, -6.0930e-01],\n",
              "        [ 3.2521e+00, -1.3236e-01],\n",
              "        [ 5.8690e-01,  5.5898e-01],\n",
              "        [ 4.2774e+00, -9.0924e-01],\n",
              "        [ 5.6032e+00, -5.5472e-01],\n",
              "        [ 5.5002e+00, -6.6574e-01],\n",
              "        [ 1.2629e+00,  9.6293e-01],\n",
              "        [ 3.8322e+00, -6.5970e-01],\n",
              "        [ 6.0534e+00, -1.1333e-01],\n",
              "        [ 2.6446e+00,  4.6259e-01],\n",
              "        [ 4.1884e+00, -8.7543e-01],\n",
              "        [ 5.4541e+00, -7.1830e-01],\n",
              "        [ 2.3454e+00,  7.0325e-01],\n",
              "        [ 2.7744e+00,  3.3869e-01],\n",
              "        [ 3.4666e+00, -3.3095e-01],\n",
              "        [ 2.3112e+00,  7.2747e-01],\n",
              "        [ 4.3161e+00, -9.2054e-01],\n",
              "        [ 6.8511e-01,  6.3959e-01],\n",
              "        [ 3.7251e+00, -5.7437e-01],\n",
              "        [ 2.5894e+00,  5.1785e-01],\n",
              "        [ 5.3931e+00, -7.4585e-01],\n",
              "        [ 3.8091e+00, -6.4230e-01],\n",
              "        [ 4.2017e+00, -8.8101e-01],\n",
              "        [ 4.0912e+00, -8.1895e-01],\n",
              "        [ 1.9839e+00,  9.0615e-01],\n",
              "        [ 3.8168e+00, -6.4849e-01],\n",
              "        [ 5.1586e+00, -8.5327e-01],\n",
              "        [ 1.5264e+00,  9.9081e-01],\n",
              "        [ 3.9999e+00, -7.6527e-01],\n",
              "        [ 4.6971e-01,  4.5623e-01],\n",
              "        [ 4.0240e+00, -7.7903e-01],\n",
              "        [ 8.2808e-01,  7.4522e-01],\n",
              "        [ 3.5141e-01,  3.4543e-01],\n",
              "        [ 5.4534e+00, -7.0579e-01],\n",
              "        [ 3.4257e+00, -2.9756e-01],\n",
              "        [ 4.6094e+00, -9.8552e-01],\n",
              "        [ 6.0225e+00, -9.0575e-02],\n",
              "        [ 2.9606e+00,  1.6010e-01],\n",
              "        [ 5.7266e+00, -4.5376e-01],\n",
              "        [ 1.9577e+00,  9.1882e-01],\n",
              "        [ 4.4404e+00, -9.6538e-01],\n",
              "        [ 5.3555e+00, -7.6352e-01],\n",
              "        [ 6.0708e+00, -1.1862e-01],\n",
              "        [ 4.7273e+00, -9.8142e-01],\n",
              "        [ 9.1347e-01,  7.9984e-01],\n",
              "        [ 4.0551e+00, -7.9750e-01],\n",
              "        [ 7.3150e-01,  6.7426e-01],\n",
              "        [ 2.2595e+00,  7.5678e-01],\n",
              "        [ 5.4566e+00, -7.0389e-01],\n",
              "        [ 6.0697e+00, -1.1917e-01],\n",
              "        [ 4.3049e+00, -9.1610e-01],\n",
              "        [ 5.5576e+00, -6.1821e-01],\n",
              "        [ 4.8974e+00, -9.7065e-01],\n",
              "        [ 8.0757e-01,  7.2808e-01],\n",
              "        [ 4.7925e+00, -9.8117e-01],\n",
              "        [ 4.2099e+00, -8.8220e-01],\n",
              "        [ 3.0291e+00,  8.9916e-02],\n",
              "        [ 4.3500e+00, -9.3301e-01],\n",
              "        [ 6.0254e+00, -1.0151e-01],\n",
              "        [ 9.3254e-01,  8.1278e-01],\n",
              "        [ 5.5448e+00, -6.0837e-01],\n",
              "        [ 6.0431e+00, -1.0932e-01],\n",
              "        [ 1.3686e+00,  9.8739e-01],\n",
              "        [ 2.6405e+00,  4.6846e-01],\n",
              "        [ 1.3209e+00,  9.8551e-01],\n",
              "        [ 2.9282e+00,  1.8812e-01],\n",
              "        [ 2.5266e-01,  2.5856e-01],\n",
              "        [ 4.2120e+00, -8.8479e-01],\n",
              "        [ 4.4073e+00, -9.5283e-01],\n",
              "        [ 3.2129e+00, -8.7367e-02],\n",
              "        [ 1.9877e+00,  9.0378e-01],\n",
              "        [ 4.7332e+00, -9.8056e-01],\n",
              "        [ 4.7032e+00, -9.8870e-01],\n",
              "        [ 4.1544e+00, -8.5594e-01],\n",
              "        [ 4.4802e+00, -9.7030e-01],\n",
              "        [ 3.7080e+00, -5.5932e-01],\n",
              "        [ 1.9379e-01,  1.8206e-01],\n",
              "        [ 9.0634e-01,  7.9636e-01],\n",
              "        [ 1.3830e+00,  9.8771e-01],\n",
              "        [ 4.7730e+00, -9.8500e-01],\n",
              "        [ 5.3418e+00, -7.7090e-01],\n",
              "        [ 5.8262e+00, -3.6337e-01],\n",
              "        [ 5.6179e+00, -5.3736e-01],\n",
              "        [ 4.3623e+00, -9.3909e-01],\n",
              "        [ 9.9334e-01,  8.4768e-01],\n",
              "        [ 1.2319e+00,  9.5088e-01],\n",
              "        [ 2.4398e+00,  6.3647e-01],\n",
              "        [ 5.6923e+00, -4.8100e-01],\n",
              "        [ 5.7866e+00, -3.7354e-01],\n",
              "        [ 5.4458e+00, -7.0764e-01],\n",
              "        [ 1.8552e+00,  9.6912e-01],\n",
              "        [ 2.2438e+00,  7.6485e-01],\n",
              "        [ 1.2022e+00,  9.3933e-01],\n",
              "        [ 3.7513e+00, -5.9595e-01],\n",
              "        [ 5.2821e+00, -7.9463e-01],\n",
              "        [ 5.3765e+00, -7.5452e-01],\n",
              "        [ 3.4470e+00, -3.1334e-01],\n",
              "        [ 2.4151e+00,  6.5409e-01],\n",
              "        [ 5.4559e+00, -6.9944e-01],\n",
              "        [ 4.9670e+00, -9.3699e-01],\n",
              "        [ 1.1601e+00,  9.2272e-01],\n",
              "        [ 4.7715e+00, -9.8734e-01]])"
            ]
          },
          "metadata": {
            "tags": []
          },
          "execution_count": 28
        }
      ]
    },
    {
      "cell_type": "code",
      "metadata": {
        "colab": {
          "base_uri": "https://localhost:8080/",
          "height": 282
        },
        "id": "kJTLHUuT0W0I",
        "outputId": "2f7b4295-2d0e-4bd6-9a38-5f7fe71287d1"
      },
      "source": [
        "generated_samples = generated_samples.detach()\n",
        "plt.plot(generated_samples[:, 0], generated_samples[:, 1], \".\")"
      ],
      "execution_count": null,
      "outputs": [
        {
          "output_type": "execute_result",
          "data": {
            "text/plain": [
              "[<matplotlib.lines.Line2D at 0x7f836d907ed0>]"
            ]
          },
          "metadata": {
            "tags": []
          },
          "execution_count": 29
        },
        {
          "output_type": "display_data",
          "data": {
            "image/png": "[encoded data removed]",
            "text/plain": [
              "<Figure size 432x288 with 1 Axes>"
            ]
          },
          "metadata": {
            "tags": [],
            "needs_background": "light"
          }
        }
      ]
    },
    {
      "cell_type": "code",
      "metadata": {
        "id": "V3slHu7k0ZZM"
      },
      "source": [
        "import torch\n",
        "from torch import nn\n",
        "\n",
        "import math\n",
        "import matplotlib.pyplot as plt\n",
        "import torchvision\n",
        "import torchvision.transforms as transforms"
      ],
      "execution_count": null,
      "outputs": []
    },
    {
      "cell_type": "code",
      "metadata": {
        "colab": {
          "base_uri": "https://localhost:8080/"
        },
        "id": "8RTGvcRG0pSq",
        "outputId": "d9fd900d-cc6b-43ea-950f-75b7dce01867"
      },
      "source": [
        "torch.manual_seed(111)"
      ],
      "execution_count": null,
      "outputs": [
        {
          "output_type": "execute_result",
          "data": {
            "text/plain": [
              "<torch._C.Generator at 0x7ffb890dd830>"
            ]
          },
          "metadata": {
            "tags": []
          },
          "execution_count": 15
        }
      ]
    },
    {
      "cell_type": "code",
      "metadata": {
        "id": "u4kBhnuC0rLz"
      },
      "source": [
        "device = \"\"\n",
        "if torch.cuda.is_available():\n",
        "    device = torch.device(\"cuda\")\n",
        "else:\n",
        "    device = torch.device(\"cpu\")"
      ],
      "execution_count": null,
      "outputs": []
    },
    {
      "cell_type": "code",
      "metadata": {
        "id": "aH8j-dMQ0tCq"
      },
      "source": [
        "transform = transforms.Compose(\n",
        "    [transforms.ToTensor(), transforms.Normalize((0.5,), (0.5,))]\n",
        ")"
      ],
      "execution_count": null,
      "outputs": []
    },
    {
      "cell_type": "code",
      "metadata": {
        "id": "pLm9--gK0vfU"
      },
      "source": [
        "train_set = torchvision.datasets.MNIST(\n",
        "    root=\".\", train=True, download=True, transform=transform\n",
        ")"
      ],
      "execution_count": null,
      "outputs": []
    },
    {
      "cell_type": "code",
      "metadata": {
        "id": "AEVKD5DY0x-7"
      },
      "source": [
        ""
      ],
      "execution_count": null,
      "outputs": []
    }
  ]
}